{
 "cells": [
  {
   "cell_type": "code",
   "execution_count": null,
   "id": "c3ac3165-e9bd-4f70-be7f-5927633e1d0e",
   "metadata": {},
   "outputs": [],
   "source": [
    "# Program 2\n",
    "# CIS 443-01\n",
    "# Due by: 3/10/22\n",
    "# Written by: C7933\n",
    "\n",
    "\"\"\"Python script to calculate student test mean and letter grade and display on a bar chart using inputed test scores\"\"\"\n",
    "\n",
    "def input_test_scores():                                     # function to gather student and test data\n",
    "    global students                                          # make students a global variable for use outside function\n",
    "    students = int(input('Enter the number of students: '))  # prompt user for number of students\n",
    "    tests = int(input('Enter the number of tests: '))        # prompt user for number of tests\n",
    "    scores = []                                              # empty list to store student scores\n",
    "    for i in range(students):                                # loop for the number of students\n",
    "        row = []                                             # empty list to store each individual students scores\n",
    "        for j in range(tests):                               # loop to create a list of test scores\n",
    "            row.append(int(input('Enter test score: ')))     # prompt user for test score and append to list \"row\"\n",
    "        scores.append(row)                                   # append each \"row\" list to \"score\" list creating 2-dimensioal list\n",
    "    return scores                                            # return the 2-D list \"scores\"\n",
    "\n",
    "\n",
    "def summarize_test_scores(scores):                     # function to summarize data and display bar chart\n",
    "    import statistics as stats                         # import statistics module to use the mean method\n",
    "    grades = {'A': 0, 'B': 0, 'C': 0, 'D': 0, 'F': 0}  # define a dictionary of letter grades and their frequencies\n",
    "    for row in scores:                                 # loop to calculate frequencies of letter grades\n",
    "        student_mean = stats.mean(row)                 # calculate the mean of each students's test scores\n",
    "        if student_mean >= 90:                         # statements to accumulate frequency of each letter grade\n",
    "            grades['A'] += 1\n",
    "        elif student_mean >= 80:\n",
    "            grades['B'] += 1\n",
    "        elif student_mean >= 70:\n",
    "            grades['C'] += 1\n",
    "        elif student_mean >= 60:\n",
    "            grades['D'] += 1\n",
    "        else:\n",
    "            grades['F'] += 1\n",
    "    \n",
    "    import seaborn as sns                # import for graphing capabilities\n",
    "\n",
    "    values = list(grades.keys())         # create list of the dictionaries keys\n",
    "    frequencies = list(grades.values())  # create list of the dictionaries values\n",
    "\n",
    "    title = f'Grades for {students} students'                   # create title of bar chart\n",
    "    sns.set_style('whitegrid')                                     # specifies the 'whitegrid' style\n",
    "    axes = sns.barplot(x=values, y=frequencies, palette='bright')  # graphs the letter grade frequencies using Seaborn’s barplot function\n",
    "\n",
    "    axes.set_title(title)                         # display the bar chart title\n",
    "    axes.set(xlabel='Grade', ylabel='Frequency')  # add labels to each axis\n",
    "\n",
    "    axes.set_ylim(top=max(frequencies) * 1.15)                  # adjust the top limit of chart\n",
    "    for bar, frequency in zip(axes.patches, frequencies):       # displays each bar’s frequency value and percentage of the total letter grades\n",
    "        text_x = bar.get_x() + bar.get_width() / 2.0            # gets the x-coordinate for text\n",
    "        text_y = bar.get_height()                               # gets the y-coordinate for text\n",
    "        text = f'{frequency:,}\\n{frequency / len(grades):.3%}'  # displays each bar’s frequency value and percentage of the total letter grades\n",
    "        axes.text(text_x, text_y, text, fontsize=11, ha='center', va='bottom')  # display the text above the bar\n",
    "     \n",
    "scores = input_test_scores()\n",
    "summarize_test_scores(scores)\n"
   ]
  },
  {
   "cell_type": "code",
   "execution_count": null,
   "id": "2856c2d0-adce-464e-af13-35d52b2fe121",
   "metadata": {},
   "outputs": [],
   "source": []
  }
 ],
 "metadata": {
  "kernelspec": {
   "display_name": "Python 3 (ipykernel)",
   "language": "python",
   "name": "python3"
  },
  "language_info": {
   "codemirror_mode": {
    "name": "ipython",
    "version": 3
   },
   "file_extension": ".py",
   "mimetype": "text/x-python",
   "name": "python",
   "nbconvert_exporter": "python",
   "pygments_lexer": "ipython3",
   "version": "3.9.7"
  }
 },
 "nbformat": 4,
 "nbformat_minor": 5
}
